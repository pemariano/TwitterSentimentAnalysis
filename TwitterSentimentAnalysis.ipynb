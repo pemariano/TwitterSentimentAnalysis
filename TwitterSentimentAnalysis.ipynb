{
 "cells": [
  {
   "cell_type": "markdown",
   "id": "3e080cce-953c-4084-8789-b273fd52f932",
   "metadata": {
    "tags": []
   },
   "source": [
    "# Intro"
   ]
  },
  {
   "cell_type": "markdown",
   "id": "c9fe497d-6d29-4b2e-92c7-a83cdd4f092f",
   "metadata": {},
   "source": [
    "This project aims to check consumers opinios of a determined product or subject in Twitter. \\\n",
    "This is importat to understand consumers opinions and redirect the brand in the best possible direction based on the data of clients feelings. \\\n",
    "This is done by twitter extraction with tweepy and doing sentiment analysis with textblob."
   ]
  },
  {
   "cell_type": "markdown",
   "id": "a10a2eac-25a7-4631-84d1-2489d7e919b3",
   "metadata": {},
   "source": [
    "# Code"
   ]
  },
  {
   "cell_type": "code",
   "execution_count": 2,
   "id": "97892a8e-81e2-4f2f-8271-1e25bd1f33c5",
   "metadata": {
    "tags": []
   },
   "outputs": [],
   "source": [
    "import re     # regex\n",
    "import tweepy # access the twitter api via python\n",
    "from tweepy import OAuthHandler\n",
    "from textblob import TextBlob # sentiment analysis"
   ]
  },
  {
   "cell_type": "code",
   "execution_count": 5,
   "id": "5e4b63cd-c7e5-4345-be3f-013c26d26f5c",
   "metadata": {},
   "outputs": [
    {
     "name": "stdout",
     "output_type": "stream",
     "text": [
      "Error : 401 Unauthorized\n",
      "89 - Invalid or expired token.\n"
     ]
    },
    {
     "ename": "TypeError",
     "evalue": "'NoneType' object is not iterable",
     "output_type": "error",
     "traceback": [
      "\u001b[0;31m---------------------------------------------------------------------------\u001b[0m",
      "\u001b[0;31mTypeError\u001b[0m                                 Traceback (most recent call last)",
      "Cell \u001b[0;32mIn[5], line 118\u001b[0m\n\u001b[1;32m    114\u001b[0m         \u001b[38;5;28mprint\u001b[39m(tweet[\u001b[38;5;124m'\u001b[39m\u001b[38;5;124mtext\u001b[39m\u001b[38;5;124m'\u001b[39m])\n\u001b[1;32m    117\u001b[0m \u001b[38;5;28;01mif\u001b[39;00m \u001b[38;5;18m__name__\u001b[39m \u001b[38;5;241m==\u001b[39m \u001b[38;5;124m'\u001b[39m\u001b[38;5;124m__main__\u001b[39m\u001b[38;5;124m'\u001b[39m:\n\u001b[0;32m--> 118\u001b[0m     main()\n",
      "Cell \u001b[0;32mIn[5], line 94\u001b[0m, in \u001b[0;36mmain\u001b[0;34m()\u001b[0m\n\u001b[1;32m     91\u001b[0m tweets \u001b[38;5;241m=\u001b[39m api\u001b[38;5;241m.\u001b[39mget_tweets(query \u001b[38;5;241m=\u001b[39m \u001b[38;5;124m'\u001b[39m\u001b[38;5;124mNike\u001b[39m\u001b[38;5;124m'\u001b[39m, count \u001b[38;5;241m=\u001b[39m \u001b[38;5;241m15\u001b[39m)\n\u001b[1;32m     93\u001b[0m \u001b[38;5;66;03m# separating the tweets for sentiment\u001b[39;00m\n\u001b[0;32m---> 94\u001b[0m pos_tweets \u001b[38;5;241m=\u001b[39m [tweet \u001b[38;5;28;01mfor\u001b[39;00m tweet \u001b[38;5;129;01min\u001b[39;00m tweets \u001b[38;5;28;01mif\u001b[39;00m tweet[\u001b[38;5;124m'\u001b[39m\u001b[38;5;124msentiment\u001b[39m\u001b[38;5;124m'\u001b[39m] \u001b[38;5;241m==\u001b[39m \u001b[38;5;124m'\u001b[39m\u001b[38;5;124mpositive\u001b[39m\u001b[38;5;124m'\u001b[39m]\n\u001b[1;32m     95\u001b[0m neg_tweets \u001b[38;5;241m=\u001b[39m [tweet \u001b[38;5;28;01mfor\u001b[39;00m tweet \u001b[38;5;129;01min\u001b[39;00m tweets \u001b[38;5;28;01mif\u001b[39;00m tweet[\u001b[38;5;124m'\u001b[39m\u001b[38;5;124msentiment\u001b[39m\u001b[38;5;124m'\u001b[39m] \u001b[38;5;241m==\u001b[39m \u001b[38;5;124m'\u001b[39m\u001b[38;5;124mnegative\u001b[39m\u001b[38;5;124m'\u001b[39m]\n\u001b[1;32m     96\u001b[0m neu_tweets \u001b[38;5;241m=\u001b[39m [tweet \u001b[38;5;28;01mfor\u001b[39;00m tweet \u001b[38;5;129;01min\u001b[39;00m tweets \u001b[38;5;28;01mif\u001b[39;00m tweet[\u001b[38;5;124m'\u001b[39m\u001b[38;5;124msentiment\u001b[39m\u001b[38;5;124m'\u001b[39m] \u001b[38;5;241m==\u001b[39m \u001b[38;5;124m'\u001b[39m\u001b[38;5;124mneutral\u001b[39m\u001b[38;5;124m'\u001b[39m]\n",
      "\u001b[0;31mTypeError\u001b[0m: 'NoneType' object is not iterable"
     ]
    }
   ],
   "source": [
    "class TwitterClient(object):\n",
    "    # a class to interact with twitter api \n",
    "    # and do sentiment analysis\n",
    "    \n",
    "    \n",
    "    def __init__(self):\n",
    "        # initialization method for the class\n",
    "        # autenticate to the twitter api\n",
    "        \n",
    "        # keys and tokens:\n",
    "        consumer_key = 'XXXXX'\n",
    "        consumer_secret = 'XXXXX'\n",
    "        access_token = 'XXXXX'\n",
    "        access_token_secret = 'XXXXX'\n",
    "        \n",
    "        # try to autenticate\n",
    "        try: \n",
    "            self.auth = OAuthHandler(consumer_key, consumer_secret)\n",
    "            # create OAuthHandler object\n",
    "            self.auth.set_access_token(access_token, access_token_secret)\n",
    "            # define access token and secret\n",
    "            self.api = tweepy.API(self.auth)\n",
    "            # create tweepy API object and autenticate\n",
    "        except:\n",
    "            print('Error: Authentication Failed')\n",
    "            \n",
    "            \n",
    "    def clean_tweet(self,tweet):\n",
    "        # remove links, special characters, ... using regex statements\n",
    "        return ' '.join(re.sub(\"(@[A-Za-z0-9]+)|([ˆ0-9A-Za-z \\t])|(\\w+:\\/\\/\\S+)\", \" \", tweet).split())\n",
    "    \n",
    "    \n",
    "    def get_tweet_sentiment(self, tweet):\n",
    "        # classify sentiment of the tweet using textblob\n",
    "        \n",
    "        # create TextBlob object of the tweet\n",
    "        analysis = TextBlob(self.clean_tweet(tweet))\n",
    "        # define sentiment\n",
    "        if analysis. sentiment.polarity > 0:\n",
    "            return 'positive'\n",
    "        elif analysis.sentiment.polarity == 0:\n",
    "            return 'neutral'\n",
    "        else:\n",
    "            return 'negative'\n",
    "        \n",
    "    def get_tweets(self, query, count = 10):\n",
    "        # main function to fetch and parse tweets\n",
    "        \n",
    "        # empty list to store parsed tweets\n",
    "        tweets = []\n",
    "        \n",
    "        try:\n",
    "            # call twitter api\n",
    "            fetched_tweets = self.api.search_tweets(q = query, count = count)\n",
    "            \n",
    "            # parsing tweets\n",
    "            for tweet in fetched_tweets:\n",
    "                \n",
    "                # empty dict to store required params of a tweet\n",
    "                parsed_tweet = {}\n",
    "                \n",
    "                # saving the text of a tweet\n",
    "                parsed_tweet['text'] = tweet.text\n",
    "                # saving sentiment of tweet\n",
    "                parsed_tweet['sentiment'] = self.get_tweet_sentiment(tweet.text)\n",
    "                \n",
    "                # append parsed tweet te the list\n",
    "                if tweet.retweet_count > 0:\n",
    "                    # append only once if the tweet has retweets\n",
    "                    if parsed_tweet not in tweets:\n",
    "                        tweet.append(parsed_tweet)\n",
    "                else:\n",
    "                    # doesnt have retweets\n",
    "                    tweets.append(parsed_tweet)\n",
    "                    \n",
    "            # returns parsed tweets\n",
    "            return tweets\n",
    "        \n",
    "        # if anything goes wrong\n",
    "        except tweepy.errors.TweepyException as e:\n",
    "            # print error (if any)\n",
    "            print('Error : ' + str(e))\n",
    "            \n",
    "            \n",
    "            \n",
    "def main():\n",
    "    # create object of TwitterClient Class\n",
    "    api = TwitterClient()\n",
    "    # function to get the tweets\n",
    "    # the query to search goes here\n",
    "    tweets = api.get_tweets(query = 'Nike', count = 15)\n",
    "    \n",
    "    # separating the tweets for sentiment\n",
    "    pos_tweets = [tweet for tweet in tweets if tweet['sentiment'] == 'positive']\n",
    "    neg_tweets = [tweet for tweet in tweets if tweet['sentiment'] == 'negative']\n",
    "    neu_tweets = [tweet for tweet in tweets if tweet['sentiment'] == 'neutral']\n",
    "    \n",
    "    # print the results\n",
    "    print('Positive tweets percentage: {}%'.format( 100*len(pos_tweets)/len(tweets) ))\n",
    "    print('Negative tweets percentage: {}%'.format( 100*len(neg_tweets)/len(tweets) ))\n",
    "    print('Neutral tweets percentage: {}%'.format( 100*len(neu_tweets)/len(tweets) ))\n",
    "    \n",
    "    # print some tweets of each sentiment\n",
    "    print('\\n\\n Positive tweets:')\n",
    "    for tweet in pos_tweets[:2]:\n",
    "        print(tweet['text'])\n",
    "    \n",
    "    print('\\n\\n Negative tweets:')\n",
    "    for tweet in neg_tweets[:2]:\n",
    "        print(tweet['text'])\n",
    "    \n",
    "    print('\\n\\n Neutral tweets:')\n",
    "    for tweet in neu_tweets[:2]:\n",
    "        print(tweet['text'])\n",
    "        \n",
    "        \n",
    "if __name__ == '__main__':\n",
    "    main()\n",
    "    \n",
    "    \n",
    "# ideas:\n",
    "# Get tweets for mentions not querys, like the mention of a brand in the tweet."
   ]
  },
  {
   "cell_type": "code",
   "execution_count": null,
   "id": "26ae564e-9a78-427b-b0a9-b702c5baf0e8",
   "metadata": {},
   "outputs": [],
   "source": []
  }
 ],
 "metadata": {
  "kernelspec": {
   "display_name": "Python 3 (ipykernel)",
   "language": "python",
   "name": "python3"
  },
  "language_info": {
   "codemirror_mode": {
    "name": "ipython",
    "version": 3
   },
   "file_extension": ".py",
   "mimetype": "text/x-python",
   "name": "python",
   "nbconvert_exporter": "python",
   "pygments_lexer": "ipython3",
   "version": "3.11.5"
  }
 },
 "nbformat": 4,
 "nbformat_minor": 5
}
